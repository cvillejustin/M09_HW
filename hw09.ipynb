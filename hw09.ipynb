{
 "cells": [
  {
   "cell_type": "markdown",
   "metadata": {},
   "source": [
    "# Metadata\n",
    "\n",
    "```yaml\n",
    "Course:  DS 5100\n",
    "Module:  09 Python Packages\n",
    "Topic:   HW Package Booklover\n",
    "Author:  R.C. Alvarado (adapted)\n",
    "Date:    7 July 2023 (revised)\n",
    "```"
   ]
  },
  {
   "cell_type": "markdown",
   "metadata": {},
   "source": [
    "# Student Info\n",
    "\n",
    "* Name:  Justin Roberts\n",
    "* Net UD: jrr4n\n",
    "* URL of this file in GitHub: https://github.com/cvillejustin/M09_HW"
   ]
  },
  {
   "cell_type": "markdown",
   "metadata": {},
   "source": [
    "# Instructions\n",
    "\n",
    "In your **private course repo on Rivanna**, use this Jupyter notebook and the data file described to write code that performs the tasks below. \n",
    "\n",
    "Save your notebook in the `M09` directory.\n",
    "\n",
    "Remember to add and commit these files to your repo. \n",
    "\n",
    "Then push your commits to your repo on GitHib.\n",
    "\n",
    "Be sure to fill out the **Student Info** block above.\n",
    "\n",
    "To submit your homework, save your results as a PDF and upload it to GradeScope. More information about how to create the PDF for this assignment are included at the end of this document.\n",
    "\n",
    "**TOTAL POINTS: 8**"
   ]
  },
  {
   "cell_type": "markdown",
   "metadata": {},
   "source": [
    "# Overview\n",
    "\n",
    "Follow the following recipe we used in class to package the code you wrote for `HW08` -- `booklover.py` and `booklover_test.py`.\n",
    "\n",
    "* Create a new git repo for your package.\n",
    "* Create and edit the required files and directories for your package and move the booklover modules there.\n",
    "* Stage, commit, and push all the files you've created.\n",
    "* Install your package with pip.\n",
    "* Outside of your package dir, write a script to test your method.\n",
    "\n",
    "Put this notebook in your repo. This will allow you to execute bash commands and capture the outpunt directly in the notebook.\n",
    "\n",
    "**TOTAL: 8 POINTS**"
   ]
  },
  {
   "cell_type": "markdown",
   "metadata": {
    "tags": []
   },
   "source": [
    "# Tasks"
   ]
  },
  {
   "cell_type": "markdown",
   "metadata": {},
   "source": [
    "## Task 1\n",
    "\n",
    "(5 points)\n",
    "\n",
    "Show the directory structure of your repo by running this command from the root of your repo:"
   ]
  },
  {
   "cell_type": "code",
   "execution_count": 1,
   "metadata": {},
   "outputs": [
    {
     "name": "stdout",
     "output_type": "stream",
     "text": [
      ".:\n",
      "total 44\n",
      "-rw-r--r-- 1 jrr4n users 2842 Oct 24 23:15 booklover_test.py\n",
      "-rw-r--r-- 1 jrr4n users 7544 Oct 25 00:15 hw09.ipynb\n",
      "-rw-r--r-- 1 jrr4n users 1071 Oct 24 22:48 LICENSE\n",
      "drwxr-sr-x 2 jrr4n users 2048 Oct 25 00:11 M09_HW_Module.egg-info\n",
      "drwxr-sr-x 4 jrr4n users 2048 Oct 25 00:10 module_09_hw\n",
      "drwxr-sr-x 2 jrr4n users  512 Oct 24 23:29 __pycache__\n",
      "-rw-r--r-- 1 jrr4n users   42 Oct 24 22:48 README.md\n",
      "-rw-r--r-- 1 jrr4n users  339 Oct 24 23:08 setup.py\n",
      "\n",
      "./M09_HW_Module.egg-info:\n",
      "total 16\n",
      "-rw-r--r-- 1 jrr4n users   1 Oct 25 00:11 dependency_links.txt\n",
      "-rw-r--r-- 1 jrr4n users 291 Oct 25 00:11 PKG-INFO\n",
      "-rw-r--r-- 1 jrr4n users 217 Oct 25 00:11 SOURCES.txt\n",
      "-rw-r--r-- 1 jrr4n users  13 Oct 25 00:11 top_level.txt\n",
      "\n",
      "./module_09_hw:\n",
      "total 16\n",
      "-rw-r--r-- 1 jrr4n users 2328 Oct 25 00:10 booklover.py\n",
      "-rw-r--r-- 1 jrr4n users   41 Oct 24 23:03 __init__.py\n",
      "drwxr-sr-x 2 jrr4n users 1024 Oct 25 00:12 __pycache__\n",
      "\n",
      "./module_09_hw/__pycache__:\n",
      "total 12\n",
      "-rw-r--r-- 1 jrr4n users 1819 Oct 25 00:12 booklover.cpython-38.pyc\n",
      "-rw-r--r-- 1 jrr4n users  213 Oct 24 23:32 __init__.cpython-38.pyc\n",
      "\n",
      "./__pycache__:\n",
      "total 8\n",
      "-rw-r--r-- 1 jrr4n users 2569 Oct 24 23:29 booklover_test.cpython-38.pyc\n"
     ]
    }
   ],
   "source": [
    "!ls -lR"
   ]
  },
  {
   "cell_type": "markdown",
   "metadata": {},
   "source": [
    "## Task 2\n",
    "\n",
    "(1 point)\n",
    "\n",
    "Put the URL of your GitHub repo here. Just paste it into a Markdown cell."
   ]
  },
  {
   "cell_type": "markdown",
   "metadata": {},
   "source": [
    "URL: https://github.com/cvillejustin/M09_HW"
   ]
  },
  {
   "cell_type": "markdown",
   "metadata": {
    "lines_to_next_cell": 0
   },
   "source": [
    "## Task 3\n",
    "\n",
    "(1 point)\n",
    "\n",
    "Show the results of installing your package.\n",
    "\n",
    "```bash\n",
    "!pip install -e .\n",
    "```"
   ]
  },
  {
   "cell_type": "code",
   "execution_count": null,
   "metadata": {},
   "outputs": [],
   "source": [
    "-bash-4.2$!pip install -e .\n",
    "pip install -e . install -e .\n",
    "Defaulting to user installation because normal site-packages is not writeable\n",
    "Obtaining file:///sfs/qumulo/qhome/jrr4n/Documents/MSDS/DS5100/M09_HW\n",
    "Obtaining file:///sfs/qumulo/qhome/jrr4n/Documents/MSDS/DS5100/M09_HW\n",
    "Collecting install\n",
    "  Downloading install-1.3.5-py3-none-any.whl (3.2 kB)\n",
    "Installing collected packages: install, M09-HW-Module\n",
    "  Running setup.py develop for M09-HW-Module\n",
    "Successfully installed M09-HW-Module install-1.3.5"
   ]
  },
  {
   "cell_type": "markdown",
   "metadata": {},
   "source": [
    "## Task 4\n",
    "\n",
    "(1 point)\n",
    "\n",
    "Create a file outside your repo to test your package by running it.\n",
    "\n",
    "To do this, import the package into your file and create a BookLover object.\n",
    "\n",
    "Then add a book and then print number books read.\n",
    "\n",
    "Then run the file. \n",
    "\n",
    "Show the output of running the file below, using a command like the following:\n",
    "\n",
    "```bash\n",
    "!python ../book_lover_demo.py\n",
    "```"
   ]
  },
  {
   "cell_type": "code",
   "execution_count": null,
   "metadata": {},
   "outputs": [],
   "source": [
    "-bash-4.2$!python book_lover_demo.py\n",
    "python book_lover_demo.py book_lover_demo.py book_lover_demo.py\n",
    "Welcome to my Booklover Module!\n",
    "/sfs/qumulo/qhome/jrr4n/Documents/MSDS/DS5100/M09_HW/module_09_hw/booklover.py:37: FutureWarning: elementwise comparison failed; returning scalar instead, but in the future will perform eleme\n",
    "ntwise comparison\n",
    "  if book_name in self.book_list['book_name'].values:\n",
    "Sherlock Holmes added to list.\n",
    "1"
   ]
  }
 ],
 "metadata": {
  "jupytext": {
   "cell_metadata_filter": "-all",
   "main_language": "bash",
   "notebook_metadata_filter": "-all"
  },
  "kernelspec": {
   "display_name": "Python 3",
   "language": "python",
   "name": "python3"
  },
  "language_info": {
   "codemirror_mode": {
    "name": "ipython",
    "version": 3
   },
   "file_extension": ".py",
   "mimetype": "text/x-python",
   "name": "python",
   "nbconvert_exporter": "python",
   "pygments_lexer": "ipython3",
   "version": "3.8.8"
  },
  "vscode": {
   "interpreter": {
    "hash": "c3b963de08c47c3b6758389c5e0978ad73698a111eb508d4e16b558edb8f4cbf"
   }
  },
  "widgets": {
   "application/vnd.jupyter.widget-state+json": {
    "state": {},
    "version_major": 2,
    "version_minor": 0
   }
  }
 },
 "nbformat": 4,
 "nbformat_minor": 5
}
